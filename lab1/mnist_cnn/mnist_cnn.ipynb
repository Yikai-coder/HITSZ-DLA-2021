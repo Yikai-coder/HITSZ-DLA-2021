{
 "cells": [
  {
   "cell_type": "markdown",
   "metadata": {},
   "source": [
    "# 基于CNN的MNIST手写数字识别\n",
    "## 1. 加载Overlay"
   ]
  },
  {
   "cell_type": "code",
   "execution_count": 1,
   "metadata": {
    "scrolled": true
   },
   "outputs": [
    {
     "data": {
      "application/javascript": [
       "\n",
       "require(['notebook/js/codecell'], function(codecell) {\n",
       "  codecell.CodeCell.options_default.highlight_modes[\n",
       "      'magic_text/x-csrc'] = {'reg':[/^%%microblaze/]};\n",
       "  Jupyter.notebook.events.one('kernel_ready.Kernel', function(){\n",
       "      Jupyter.notebook.get_cells().map(function(cell){\n",
       "          if (cell.cell_type == 'code'){ cell.auto_highlight(); } }) ;\n",
       "  });\n",
       "});\n"
      ]
     },
     "metadata": {},
     "output_type": "display_data"
    },
    {
     "name": "stderr",
     "output_type": "stream",
     "text": [
      "/usr/local/lib/python3.6/dist-packages/pynq/pl_server/device.py:594: UserWarning: Users will not get PARAMETERS / REGISTERS information through TCL files. HWH file is recommended.\n",
      "  warnings.warn(message, UserWarning)\n"
     ]
    },
    {
     "name": "stdout",
     "output_type": "stream",
     "text": [
      "Overlay downloaded successfully!\n"
     ]
    }
   ],
   "source": [
    "from pynq import Overlay\n",
    "import numpy as np\n",
    "from pynq import Xlnk\n",
    "import struct\n",
    "from scipy.misc import imread\n",
    "import cv2\n",
    "\n",
    "overlay = Overlay('./mnist_cnn.bit')\n",
    "print(\"Overlay downloaded successfully!\")"
   ]
  },
  {
   "cell_type": "markdown",
   "metadata": {},
   "source": [
    "## 2. 定义IP核驱动及其他功能函数"
   ]
  },
  {
   "cell_type": "code",
   "execution_count": 2,
   "metadata": {},
   "outputs": [],
   "source": [
    "conv_ip = overlay.Conv_0\n",
    "pool_ip = overlay.Pool_0\n",
    "xlnk = Xlnk()\n",
    "    \n",
    "# 卷积IP核驱动函数    \n",
    "def hwConv(conv, Kx, Ky, Sx, Sy, mode, relu_en, feat_in, W, bias, feat_out):\n",
    "    conv.write(0x10, feat_in.shape[2])           # 输入特征图通道数\n",
    "    conv.write(0x18, feat_in.shape[0])           # 输入特征图高度\n",
    "    conv.write(0x20, feat_in.shape[1])           # 输入特征图宽度\n",
    "    conv.write(0x28, feat_out.shape[2])          # 输出特征图通道数\n",
    "    conv.write(0x30, Kx)                         # 卷积核高度\n",
    "    conv.write(0x38, Ky)                         # 卷积核宽度\n",
    "    conv.write(0x40, Sx)                         # 竖直方向上的卷积步长\n",
    "    conv.write(0x48, Sy)                         # 水平方向上的卷积步长\n",
    "    conv.write(0x50, mode)                       # 输入特征图是否需要padding\n",
    "    conv.write(0x58, relu_en)                    # 是否使用ReLU激活函数\n",
    "    conv.write(0x60, feat_in.physical_address)   # 输入特征图地址\n",
    "    conv.write(0x68, W.physical_address)         # 卷积核地址\n",
    "    conv.write(0x70, bias.physical_address)      # 偏置地址\n",
    "    conv.write(0x78, feat_out.physical_address)  # 输出特征图地址\n",
    "    conv.write(0, (conv.read(0) & 0x80) | 0x01)\n",
    "    tp = conv.read(0)\n",
    "    while not ((tp >> 1) & 0x1):\n",
    "        tp = conv.read(0)\n",
    "    \n",
    "# 池化IP核驱动函数\n",
    "def hwPool(pool, Kx, Ky, mode, feat_in, feat_out):\n",
    "    pool.write(0x10, feat_in.shape[2])           # 输入特征图通道数\n",
    "    pool.write(0x18, feat_in.shape[0])           # 输入特征图高度\n",
    "    pool.write(0x20, feat_in.shape[1])           # 输入特征图宽度\n",
    "    pool.write(0x28, Kx)                         # 池化核高度\n",
    "    pool.write(0x30, Ky)                         # 池化核宽度\n",
    "    pool.write(0x38, mode)                       # 选择池化类型（0:MEAN, 1:MIN, 2:MAX）\n",
    "    pool.write(0x40, feat_in.physical_address)   # 输入特征图地址\n",
    "    pool.write(0x48, feat_out.physical_address)  # 输出特征图地址\n",
    "    pool.write(0, (pool.read(0) & 0x80) | 0x01)\n",
    "    while not ((pool.read(0) >> 1) & 0x1):\n",
    "        pass\n",
    "\n",
    "def readbinfile(filename, size):\n",
    "    f = open(filename, \"rb\")\n",
    "    z = []\n",
    "    for j in range(size):\n",
    "        data = f.read(4)\n",
    "        data_float = struct.unpack(\"f\", data)[0]\n",
    "        z.append(data_float)\n",
    "    f.close()\n",
    "    z = np.array(z, dtype = np.float32)\n",
    "    return z"
   ]
  },
  {
   "cell_type": "markdown",
   "metadata": {},
   "source": [
    "## 3. CNN各层输入输出的基本参数"
   ]
  },
  {
   "cell_type": "code",
   "execution_count": 3,
   "metadata": {},
   "outputs": [],
   "source": [
    "##################################################\n",
    "# Conv1\n",
    "IN_CH1     = 1\n",
    "IN_WIDTH1  = 28\n",
    "IN_HEIGHT1 = 28\n",
    "\n",
    "KERNEL_W1  = 3\n",
    "STRIDE1    = 1\n",
    "RELU_EN1   = 1\n",
    "\n",
    "PADDING1   = int((KERNEL_W1 - 1)/2)\n",
    "\n",
    "OUT_CH1     = 16\n",
    "OUT_WIDTH1  = int((IN_WIDTH1  + 2*PADDING1 - KERNEL_W1)/STRIDE1 + 1) # 28\n",
    "OUT_HEIGHT1 = int((IN_HEIGHT1 + 2*PADDING1 - KERNEL_W1)/STRIDE1 + 1) # 28\n",
    "\n",
    "##################################################\n",
    "# Pool1\n",
    "MODE11      = 2  #mode: 0:MEAN, 1:MIN, 2:MAX\n",
    "IN_CH11     = OUT_CH1      # 16\n",
    "IN_WIDTH11  = OUT_WIDTH1   # 28\n",
    "IN_HEIGHT11 = OUT_HEIGHT1  # 28\n",
    "\n",
    "KERNEL_W11  = 2\n",
    "\n",
    "OUT_CH11     = IN_CH11                       # 16\n",
    "OUT_WIDTH11  = int(IN_WIDTH11 /KERNEL_W11)   # 14\n",
    "OUT_HEIGHT11 = int(IN_HEIGHT11/KERNEL_W11)   # 14\n",
    "\n",
    "##################################################\n",
    "# Conv2\n",
    "IN_CH2     = OUT_CH11          # 16\n",
    "IN_WIDTH2  = OUT_WIDTH11       # 14\n",
    "IN_HEIGHT2 = OUT_HEIGHT11      # 14\n",
    "\n",
    "KERNEL_W2  = 3\n",
    "STRIDE2    = 1\n",
    "RELU_EN2   = 1\n",
    "\n",
    "PADDING2 = int((KERNEL_W2 - 1)/2)\n",
    "\n",
    "OUT_CH2     = 32\n",
    "OUT_WIDTH2  = int((IN_WIDTH2  + 2*PADDING2 - KERNEL_W2)/STRIDE2 + 1) # 14\n",
    "OUT_HEIGHT2 = int((IN_HEIGHT2 + 2*PADDING2 - KERNEL_W2)/STRIDE2 + 1) # 14\n",
    "\n",
    "##################################################\n",
    "# Pool2\n",
    "MODE21      = 2  #mode: 0:MEAN, 1:MIN, 2:MAX\n",
    "IN_CH21     = OUT_CH2       # 32\n",
    "IN_WIDTH21  = OUT_WIDTH2    # 14\n",
    "IN_HEIGHT21 = OUT_HEIGHT2   # 14\n",
    "\n",
    "KERNEL_W21  = 2\n",
    "\n",
    "OUT_CH21     = IN_CH21                      # 32\n",
    "OUT_WIDTH21  = int(IN_WIDTH21 /KERNEL_W21)  # 7\n",
    "OUT_HEIGHT21 = int(IN_HEIGHT21/KERNEL_W21)  # 7\n",
    "\n",
    "##################################################\n",
    "# FC1\n",
    "IN_CH3     = OUT_CH21      # 32\n",
    "IN_WIDTH3  = OUT_WIDTH21   # 7\n",
    "IN_HEIGHT3 = OUT_HEIGHT21  # 7\n",
    "\n",
    "KERNEL_W3  = 7\n",
    "STRIDE3    = 1\n",
    "RELU_EN3   = 1\n",
    "\n",
    "OUT_CH3     = 128\n",
    "OUT_WIDTH3  = int((IN_WIDTH3  - KERNEL_W3)/STRIDE3 + 1) # 1\n",
    "OUT_HEIGHT3 = int((IN_HEIGHT3 - KERNEL_W3)/STRIDE3 + 1) # 1\n",
    "\n",
    "##################################################\n",
    "# FC2\n",
    "IN_CH4     = OUT_CH3     # 128\n",
    "IN_WIDTH4  = OUT_WIDTH3  # 1\n",
    "IN_HEIGHT4 = OUT_HEIGHT3 # 1\n",
    "\n",
    "KERNEL_W4  = 1\n",
    "STRIDE4    = 1\n",
    "RELU_EN4   = 1\n",
    "\n",
    "OUT_CH4     = 10\n",
    "OUT_WIDTH4  = int((IN_WIDTH4  - KERNEL_W4)/STRIDE4 + 1) # 1\n",
    "OUT_HEIGHT4 = int((IN_HEIGHT4 - KERNEL_W4)/STRIDE4 + 1) # 1"
   ]
  },
  {
   "cell_type": "markdown",
   "metadata": {},
   "source": [
    "## 4. 读取网络参数"
   ]
  },
  {
   "cell_type": "code",
   "execution_count": 4,
   "metadata": {},
   "outputs": [
    {
     "name": "stdout",
     "output_type": "stream",
     "text": [
      "Conv1:\tloading weight... done\n",
      "\tloading bias... done\n",
      "Conv2:\tloading weight... done\n",
      "\tloading bias... done\n",
      "FC1:\tloading weight... done\n",
      "\tloading bias... done\n",
      "FC2:\tloading weight... done\n",
      "\tloading bias... done\n",
      "CNN loaded successfully!\n"
     ]
    }
   ],
   "source": [
    "# Input image\n",
    "image = xlnk.cma_array(shape = (IN_HEIGHT1, IN_WIDTH1, IN_CH1), cacheable = 0, dtype = np.float32)\n",
    "\n",
    "# Conv1\n",
    "W_conv1 = xlnk.cma_array(shape = (KERNEL_W1, KERNEL_W1, IN_CH1, OUT_CH1), cacheable = 0, dtype = np.float32)\n",
    "b_conv1 = xlnk.cma_array(shape = (OUT_CH1), cacheable = 0, dtype = np.float32)\n",
    "h_conv1 = xlnk.cma_array(shape = (OUT_HEIGHT1, OUT_WIDTH1, OUT_CH1), cacheable = 0, dtype = np.float32)\n",
    "h_pool1 = xlnk.cma_array(shape = (OUT_HEIGHT11, OUT_WIDTH11, OUT_CH11), cacheable = 0, dtype = np.float32)\n",
    "\n",
    "# Conv2\n",
    "W_conv2 = xlnk.cma_array(shape = (KERNEL_W2, KERNEL_W2, IN_CH2, OUT_CH2), cacheable = 0, dtype = np.float32)\n",
    "b_conv2 = xlnk.cma_array(shape = (OUT_CH2), cacheable = 0, dtype = np.float32)\n",
    "h_conv2 = xlnk.cma_array(shape = (OUT_HEIGHT2, OUT_WIDTH2, OUT_CH2), cacheable = 0, dtype = np.float32)\n",
    "h_pool2 = xlnk.cma_array(shape = (OUT_HEIGHT21, OUT_WIDTH21, OUT_CH21), cacheable = 0, dtype = np.float32)\n",
    "\n",
    "# FC1\n",
    "W_fc1 = xlnk.cma_array(shape = (KERNEL_W3, KERNEL_W3, IN_CH3, OUT_CH3), cacheable = 0, dtype = np.float32)\n",
    "b_fc1 = xlnk.cma_array(shape = (OUT_CH3), cacheable = 0, dtype = np.float32)\n",
    "h_fc1 = xlnk.cma_array(shape = (OUT_HEIGHT3, OUT_WIDTH3, OUT_CH3), cacheable = 0, dtype = np.float32)\n",
    "\n",
    "# FC2\n",
    "W_fc2 = xlnk.cma_array(shape = (KERNEL_W4, KERNEL_W4, IN_CH4, OUT_CH4), cacheable = 0, dtype = np.float32)\n",
    "b_fc2 = xlnk.cma_array(shape = (OUT_CH4), cacheable = 0, dtype = np.float32)\n",
    "h_fc2 = xlnk.cma_array(shape = (OUT_HEIGHT4, OUT_WIDTH4, OUT_CH4), cacheable = 0, dtype = np.float32)\n",
    "\n",
    "# Read weights and bias from pre-tranined file\n",
    "print(\"Conv1:\\tloading weight... \", end = \"\")\n",
    "\n",
    "w_conv1 = readbinfile(\"./data/W_conv1.bin\", KERNEL_W1*KERNEL_W1*IN_CH1*OUT_CH1)\n",
    "w_conv1 = w_conv1.reshape((KERNEL_W1, KERNEL_W1, IN_CH1, OUT_CH1))\n",
    "xlnk.cma_memcopy(W_conv1, w_conv1, KERNEL_W1*KERNEL_W1*IN_CH1*OUT_CH1*4)\n",
    "\n",
    "print(\"done\")\n",
    "print(\"\\tloading bias... \", end = \"\")\n",
    "                \n",
    "B_conv1 = readbinfile(\"./data/b_conv1.bin\", OUT_CH1)\n",
    "xlnk.cma_memcopy(b_conv1, B_conv1, OUT_CH1*4)\n",
    "\n",
    "print(\"done\")\n",
    "print(\"Conv2:\\tloading weight... \", end = \"\")\n",
    "\n",
    "w_conv2 = readbinfile(\"./data/W_conv2.bin\", KERNEL_W2*KERNEL_W2*IN_CH2*OUT_CH2)\n",
    "w_conv2 = w_conv2.reshape((KERNEL_W2, KERNEL_W2, IN_CH2, OUT_CH2))\n",
    "xlnk.cma_memcopy(W_conv2, w_conv2, KERNEL_W2*KERNEL_W2*IN_CH2*OUT_CH2*4)\n",
    "\n",
    "print(\"done\")\n",
    "print(\"\\tloading bias... \", end = \"\")\n",
    "\n",
    "B_conv2 = readbinfile(\"./data/b_conv2.bin\",OUT_CH2)\n",
    "xlnk.cma_memcopy(b_conv2, B_conv2, OUT_CH1*4)\n",
    "\n",
    "print(\"done\")\n",
    "print(\"FC1:\\tloading weight... \", end = \"\")\n",
    "\n",
    "w_fc1 = readbinfile(\"./data/W_fc1.bin\", KERNEL_W3*KERNEL_W3*IN_CH3*OUT_CH3)\n",
    "w_fc1 = w_fc1.reshape((KERNEL_W3, KERNEL_W3, IN_CH3, OUT_CH3))\n",
    "xlnk.cma_memcopy(W_fc1, w_fc1, KERNEL_W3*KERNEL_W3*IN_CH3*OUT_CH3*4)\n",
    "\n",
    "print(\"done\")\n",
    "print(\"\\tloading bias... \", end = \"\")\n",
    "\n",
    "B_fc1 = readbinfile(\"./data/b_fc1.bin\", OUT_CH3)\n",
    "xlnk.cma_memcopy(b_fc1, B_fc1, OUT_CH3*4)\n",
    "\n",
    "print(\"done\")\n",
    "print(\"FC2:\\tloading weight... \", end = \"\")\n",
    "\n",
    "w_fc2 = readbinfile(\"./data/W_fc2.bin\", KERNEL_W4*KERNEL_W4*IN_CH4*OUT_CH4)\n",
    "w_fc2 = w_fc2.reshape((KERNEL_W4, KERNEL_W4, IN_CH4, OUT_CH4))\n",
    "xlnk.cma_memcopy(W_fc2, w_fc2, KERNEL_W4*KERNEL_W4*IN_CH4*OUT_CH4*4)\n",
    "\n",
    "print(\"done\")\n",
    "print(\"\\tloading bias... \", end = \"\")\n",
    "\n",
    "B_fc2 = readbinfile(\"./data/b_fc2.bin\",OUT_CH4)\n",
    "xlnk.cma_memcopy(b_fc2, B_fc2, OUT_CH4*4)\n",
    "\n",
    "print(\"done\")\n",
    "print(\"CNN loaded successfully!\")"
   ]
  },
  {
   "cell_type": "markdown",
   "metadata": {},
   "source": [
    "## 5. CNN硬件推导"
   ]
  },
  {
   "cell_type": "code",
   "execution_count": 5,
   "metadata": {
    "scrolled": false
   },
   "outputs": [
    {
     "name": "stdout",
     "output_type": "stream",
     "text": [
      "Finish reading image.\n",
      "The image was recognized as 2\n"
     ]
    }
   ],
   "source": [
    "image1 = cv2.imread(\"./data/1.jpg\", cv2.IMREAD_GRAYSCALE).astype(np.float32)\n",
    "for r in range(IN_HEIGHT1):\n",
    "    for c in range(IN_WIDTH1):\n",
    "        for ch in range(IN_CH1):\n",
    "            image[r][c][ch] = (255 - image1[r][c])/255\n",
    "\n",
    "print(\"Finish reading image.\")\n",
    "\n",
    "# Conv1\n",
    "hwConv(conv_ip, KERNEL_W1, KERNEL_W1, STRIDE1, STRIDE1, 1, RELU_EN1, image, W_conv1, b_conv1, h_conv1)\n",
    "hwPool(pool_ip, KERNEL_W11, KERNEL_W11, MODE11, h_conv1, h_pool1)\n",
    "# Conv2\n",
    "hwConv(conv_ip, KERNEL_W2, KERNEL_W2, STRIDE2, STRIDE2, 1, RELU_EN2, h_pool1, W_conv2, b_conv2, h_conv2)\n",
    "hwPool(pool_ip, KERNEL_W21, KERNEL_W21, MODE21, h_conv2, h_pool2)\n",
    "# FC1\n",
    "hwConv(conv_ip, KERNEL_W3, KERNEL_W3, STRIDE3, STRIDE3, 0, RELU_EN3, h_pool2, W_fc1, b_fc1, h_fc1)\n",
    "# FC2\n",
    "hwConv(conv_ip, KERNEL_W4, KERNEL_W4, STRIDE4, STRIDE4, 0, RELU_EN4, h_fc1, W_fc2, b_fc2, h_fc2)\n",
    "\n",
    "MAX = h_fc2[0][0][0]\n",
    "result = 0\n",
    "for ch in range(1, OUT_CH4):\n",
    "    if (h_fc2[0][0][ch] > MAX):\n",
    "        MAX = h_fc2[0][0][ch]\n",
    "        result = ch\n",
    "\n",
    "print(\"The image was recognized as \" + str(result))"
   ]
  },
  {
   "cell_type": "code",
   "execution_count": null,
   "metadata": {},
   "outputs": [],
   "source": []
  }
 ],
 "metadata": {
  "kernelspec": {
   "display_name": "Python 3",
   "language": "python",
   "name": "python3"
  },
  "language_info": {
   "codemirror_mode": {
    "name": "ipython",
    "version": 3
   },
   "file_extension": ".py",
   "mimetype": "text/x-python",
   "name": "python",
   "nbconvert_exporter": "python",
   "pygments_lexer": "ipython3",
   "version": "3.6.5"
  }
 },
 "nbformat": 4,
 "nbformat_minor": 2
}