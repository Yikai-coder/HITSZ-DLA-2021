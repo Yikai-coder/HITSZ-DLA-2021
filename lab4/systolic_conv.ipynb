{
 "cells": [
  {
   "cell_type": "markdown",
   "metadata": {},
   "source": [
    "# 脉动阵列 - 卷积测试\n",
    "## 1. 加载Overlay"
   ]
  },
  {
   "cell_type": "code",
   "execution_count": 1,
   "metadata": {},
   "outputs": [
    {
     "data": {
      "application/javascript": [
       "\n",
       "require(['notebook/js/codecell'], function(codecell) {\n",
       "  codecell.CodeCell.options_default.highlight_modes[\n",
       "      'magic_text/x-csrc'] = {'reg':[/^%%microblaze/]};\n",
       "  Jupyter.notebook.events.one('kernel_ready.Kernel', function(){\n",
       "      Jupyter.notebook.get_cells().map(function(cell){\n",
       "          if (cell.cell_type == 'code'){ cell.auto_highlight(); } }) ;\n",
       "  });\n",
       "});\n"
      ]
     },
     "metadata": {},
     "output_type": "display_data"
    },
    {
     "name": "stderr",
     "output_type": "stream",
     "text": [
      "/usr/local/lib/python3.6/dist-packages/pynq/pl_server/device.py:594: UserWarning: Users will not get PARAMETERS / REGISTERS information through TCL files. HWH file is recommended.\n",
      "  warnings.warn(message, UserWarning)\n"
     ]
    },
    {
     "name": "stdout",
     "output_type": "stream",
     "text": [
      "Overlay downloaded successfully!\n"
     ]
    }
   ],
   "source": [
    "import time\n",
    "import random\n",
    "from pynq import Overlay\n",
    "import numpy as np\n",
    "from pynq import Xlnk\n",
    "\n",
    "# 加载Overlay\n",
    "overlay = Overlay(\"systolic_array.bit\")\n",
    "print(\"Overlay downloaded successfully!\")"
   ]
  },
  {
   "cell_type": "markdown",
   "metadata": {},
   "source": [
    "## 2. 定义IP核驱动"
   ]
  },
  {
   "cell_type": "code",
   "execution_count": 2,
   "metadata": {},
   "outputs": [],
   "source": [
    "systolic_array_ip = overlay.systolic_array_0\n",
    "xlnk = Xlnk()\n",
    "\n",
    "# 脉动阵列驱动函数\n",
    "def RunSystolic(array, din_a, din_b, bias, out):\n",
    "    array.write(0x10, din_a.shape[0])\n",
    "    array.write(0x18, din_a.shape[1])\n",
    "    array.write(0x20, din_b.shape[1])\n",
    "    array.write(0x28, din_a.physical_address)\n",
    "    array.write(0x30, din_b.physical_address)\n",
    "    array.write(0x38, bias.physical_address)\n",
    "    array.write(0x40, out.physical_address)\n",
    "    array.write(0, (array.read(0) & 0x80) | 0x01)\n",
    "    tp = array.read(0)\n",
    "    while not ((tp >> 1) & 0x1):\n",
    "        tp = array.read(0)"
   ]
  },
  {
   "cell_type": "markdown",
   "metadata": {},
   "source": [
    "## 3. 生成测试数据"
   ]
  },
  {
   "cell_type": "code",
   "execution_count": 3,
   "metadata": {},
   "outputs": [
    {
     "name": "stdout",
     "output_type": "stream",
     "text": [
      "ready for test\n"
     ]
    }
   ],
   "source": [
    "channel  = 3    # 输入特征图通道数\n",
    "feat_row = 28   # 输入特征图高\n",
    "feat_col = 28   # 输入特征图宽\n",
    "core_num = 128  # 卷积核个数/输出特征图通道数\n",
    "core_w   = 3    # 卷积核边长\n",
    "stride   = 1    # 卷积步长\n",
    "\n",
    "out_row = (int)((feat_row - core_w)/stride + 1)\n",
    "out_col = (int)((feat_col - core_w)/stride + 1)\n",
    "\n",
    "core_size = core_w*core_w\n",
    "out_size  = out_row*out_col\n",
    "\n",
    "feature = np.zeros((channel, feat_row, feat_col), dtype = np.float32)\n",
    "core    = np.zeros((core_num, channel, core_w, core_w), dtype = np.float32)\n",
    "ref     = np.zeros((core_num, out_row, out_col), dtype = np.float32)\n",
    "\n",
    "# 在PS端的DRAM中为IP核的输入输出数据分配存储空间\n",
    "buf_a = xlnk.cma_array(shape = (core_num, channel*core_size), cacheable = 0, dtype = np.float32)\n",
    "buf_b = xlnk.cma_array(shape = (channel*core_size, out_size), cacheable = 0, dtype = np.float32)\n",
    "buf_c = xlnk.cma_array(shape = (core_num, out_size), cacheable = 0, dtype = np.float32)\n",
    "bias  = xlnk.cma_array(shape = (core_num), cacheable = 0, dtype = np.float32)\n",
    "\n",
    "# 随机生成测试数据\n",
    "for ch in range(channel):\n",
    "    for i in range(feat_row):\n",
    "        for j in range(feat_col):\n",
    "            feature[ch][i][j] = random.uniform(-20, 20)\n",
    "\n",
    "for cnum in range(core_num):\n",
    "    for ch in range(channel):\n",
    "        for m in range(core_w):\n",
    "            for n in range(core_w):\n",
    "                core[cnum][ch][m][n] = random.uniform(-1, 1)\n",
    "    \n",
    "    bias[cnum] = random.uniform(-2, 5)\n",
    "\n",
    "print(\"ready for test\")"
   ]
  },
  {
   "cell_type": "markdown",
   "metadata": {},
   "source": [
    "## 4. 运行测试\n",
    "### 4.1 软件卷积"
   ]
  },
  {
   "cell_type": "code",
   "execution_count": 4,
   "metadata": {},
   "outputs": [
    {
     "name": "stdout",
     "output_type": "stream",
     "text": [
      "pure software: 77.330211s\n"
     ]
    }
   ],
   "source": [
    "pt0 = time.clock()\n",
    "\n",
    "for ch_o in range(core_num):\n",
    "    for r_o in range(out_row):\n",
    "        for c_o in range(out_col):\n",
    "            for ch_i in range(channel):\n",
    "                for r in range(core_w):\n",
    "                    for c in range(core_w):\n",
    "                        ref[ch_o][r_o][c_o] += feature[ch_i][r_o*stride + r][c_o*stride + c] * core[ch_o][ch_i][r][c]\n",
    "            ref[ch_o][r_o][c_o] += bias[ch_o]\n",
    "\n",
    "pt1 = time.clock()\n",
    "time_sw = pt1 - pt0\n",
    "\n",
    "print(\"pure software: %fs\" % time_sw)"
   ]
  },
  {
   "cell_type": "markdown",
   "metadata": {},
   "source": [
    "### 4.2 硬件卷积"
   ]
  },
  {
   "cell_type": "code",
   "execution_count": 6,
   "metadata": {},
   "outputs": [
    {
     "name": "stdout",
     "output_type": "stream",
     "text": [
      "hardware-accelerated: 7.301778s\n",
      "speedup: 10.59\n"
     ]
    }
   ],
   "source": [
    "pt0 = time.clock()\n",
    "\n",
    "# TODO: 调整卷积核与特征图，以适应脉动阵列\n",
    "# buf_a = xlnk.cma_array(shape = (core_num, channel*core_size), cacheable = 0, dtype = np.float32)\n",
    "# buf_b = xlnk.cma_array(shape = (channel*core_size, out_size), cacheable = 0, dtype = np.float32)\n",
    "\n",
    "for ch_o in range(core_num):\n",
    "    for ch_i in range(channel):\n",
    "        for r in range(core_w):\n",
    "            for c in range(core_w):\n",
    "                buf_a[ch_o][ch_i*core_size+r*core_w+c]=core[ch_o][ch_i][r][c]\n",
    "\n",
    "for ch_i in range(channel):\n",
    "    for r in range(core_w):\n",
    "        for c in range(core_w):\n",
    "            for r_o in range(out_row):\n",
    "                for c_o in range(out_col):\n",
    "                    buf_b[ch_i*core_size+r*core_w+c][r_o*out_col+c_o] = feature[ch_i][r_o*stride + r][c_o*stride + c]\n",
    "\n",
    "# 利用硬件矩阵乘法实现卷积加速\n",
    "RunSystolic(systolic_array_ip, buf_a, buf_b, bias, buf_c)\n",
    "\n",
    "# 调整输出特征图的形状\n",
    "buf_c = buf_c.reshape(core_num, out_row, out_col)\n",
    "\n",
    "pt1 = time.clock()\n",
    "time_hw = pt1 - pt0\n",
    "\n",
    "print(\"hardware-accelerated: %fs\" % time_hw)\n",
    "print(\"speedup: %.2f\" % (time_sw/time_hw))"
   ]
  },
  {
   "cell_type": "markdown",
   "metadata": {},
   "source": [
    "### 4.3 校验结果，计算加速比"
   ]
  },
  {
   "cell_type": "code",
   "execution_count": 7,
   "metadata": {
    "scrolled": false
   },
   "outputs": [
    {
     "name": "stdout",
     "output_type": "stream",
     "text": [
      "Test Passed!\n",
      "\n",
      "reference result: \n",
      "[[[-14.59444046 -11.12211227  -8.13620186 ..., -14.64593506  58.6404686\n",
      "    49.19946289]\n",
      "  [ -7.53663969 -45.35098267 -96.07517242 ...,  16.10256958 -22.26272202\n",
      "   -23.00614166]\n",
      "  [  9.68885994  12.84560966  33.2521553  ..., -57.01199341  28.35104752\n",
      "    50.14870834]\n",
      "  ..., \n",
      "  [ 10.91507912  39.08739471 -39.50110245 ..., -19.86312103   6.20232821\n",
      "     6.09776068]\n",
      "  [ -0.427136    54.65568542 -13.18335533 ...,  -4.2653861   30.88496208\n",
      "    -7.62136126]\n",
      "  [ 48.32965851  -8.37588882   4.382339   ...,  -6.00511026 -18.4988327\n",
      "   -26.62737083]]\n",
      "\n",
      " [[ 34.82493591 -13.22342682 -31.79992676 ...,  12.9793005  -52.89299011\n",
      "   -59.79290009]\n",
      "  [ 54.56661224 -14.59963799  43.50239182 ..., -32.43840408   1.36939502\n",
      "   -41.81139755]\n",
      "  [  9.21208     43.48594666  -3.61485887 ...,  -0.63792181 -74.96201324\n",
      "    30.87534332]\n",
      "  ..., \n",
      "  [-26.09944725  42.20083237 -15.62377357 ...,  19.19475365  -6.09777355\n",
      "    12.60785484]\n",
      "  [-38.53272629 -28.89927673 -13.68227768 ...,  57.68350601  27.4907341\n",
      "     8.9763031 ]\n",
      "  [-26.28832817  14.75609016 -29.44718361 ...,  20.3132019  -49.67173386\n",
      "   -11.45379829]]\n",
      "\n",
      " [[-11.58675861 -18.71627808  -0.90147781 ...,   5.71295929  49.68353271\n",
      "    36.05014038]\n",
      "  [ 32.23659897 -23.59401321 -44.82710266 ...,   5.34613037  44.28263092\n",
      "   -76.63817596]\n",
      "  [ 32.3328743   96.23060608 -48.80303574 ..., -62.42505264 -10.10341835\n",
      "    17.31169128]\n",
      "  ..., \n",
      "  [ -3.49879479  27.95907211  45.81423569 ...,  20.24531937 -29.16522598\n",
      "   -39.95163727]\n",
      "  [  8.59771156  -1.71600366  12.88079643 ..., -11.73605061  18.23066711\n",
      "    56.94672012]\n",
      "  [-49.87513351 -24.04281998  23.47684479 ...,  27.456707    66.43507385\n",
      "   -32.75100327]]\n",
      "\n",
      " ..., \n",
      " [[ -5.00567913 -35.13304901 -35.22144699 ...,   9.98334312  90.04360962\n",
      "    28.89543915]\n",
      "  [  8.41805363 -20.79190063 -51.96736145 ...,   8.71047115  25.21669006\n",
      "    26.75450897]\n",
      "  [-24.82570267  63.36494064  31.63804626 ...,  36.36632156   6.83819246\n",
      "    34.92667007]\n",
      "  ..., \n",
      "  [ 44.97999573  52.28878784 -23.83394241 ..., -24.41790009  11.04122829\n",
      "   -31.0242157 ]\n",
      "  [ 51.42526627 -26.5280571   54.72028732 ...,  30.22862625  24.39893341\n",
      "   -94.89322662]\n",
      "  [ 23.81715393 -51.42139053  46.31784058 ...,   0.22639942  35.37043762\n",
      "    26.09255219]]\n",
      "\n",
      " [[ 39.21652603  62.39887619 -24.76743126 ..., -19.35785675 -33.10321808\n",
      "    12.80010796]\n",
      "  [ -1.6481657  -29.00559235  34.67714691 ...,  -0.34126616  82.56185913\n",
      "    35.68883896]\n",
      "  [-14.82638359  20.25600433 -86.00520325 ...,  68.05879211 -30.99768448\n",
      "    75.42227173]\n",
      "  ..., \n",
      "  [ 10.39790535  35.79808426 -30.69944382 ...,  20.05259705   7.56974697\n",
      "    64.57618713]\n",
      "  [ 11.93743515 -16.12186432 -16.47708321 ...,  10.45524216 -50.43930817\n",
      "    17.66020012]\n",
      "  [ 18.45855713  64.6722641  -24.03100586 ...,  25.70697021 -50.96051407\n",
      "   -12.26542664]]\n",
      "\n",
      " [[ 20.29195023  25.84994125   7.36015606 ...,   4.71217823 -70.88606262\n",
      "   -13.84064484]\n",
      "  [-11.16993141  23.46691132  20.38633537 ..., -10.54342651  -2.38868141\n",
      "    19.46400642]\n",
      "  [ -6.73498011  52.88302231   4.04954576 ...,  72.05194855  57.69570541\n",
      "    45.43815231]\n",
      "  ..., \n",
      "  [ 14.30510521  20.1082592  -51.48504257 ...,   1.79413748 -20.4002552\n",
      "    32.48114014]\n",
      "  [-41.05704117  13.66989994  12.45001221 ...,  40.15686417   7.793962\n",
      "     9.32518578]\n",
      "  [-23.49931145  -4.18855715 -44.97405624 ..., -14.81445885 -26.43404961\n",
      "   -17.54213142]]]\n",
      "\n",
      "array output:\n",
      "[[[-14.59444046 -11.12211227  -8.13620186 ..., -14.64593506  58.6404686\n",
      "    49.19946289]\n",
      "  [ -7.53663969 -45.35098267 -96.07517242 ...,  16.10256958 -22.26272202\n",
      "   -23.00614166]\n",
      "  [  9.68885994  12.84560966  33.2521553  ..., -57.01199341  28.35104752\n",
      "    50.14870834]\n",
      "  ..., \n",
      "  [ 10.91507912  39.08739471 -39.50110245 ..., -19.86312103   6.20232821\n",
      "     6.09776068]\n",
      "  [ -0.427136    54.65568542 -13.18335533 ...,  -4.2653861   30.88496208\n",
      "    -7.62136126]\n",
      "  [ 48.32965851  -8.37588882   4.382339   ...,  -6.00511026 -18.4988327\n",
      "   -26.62737083]]\n",
      "\n",
      " [[ 34.82493591 -13.22342682 -31.79992676 ...,  12.9793005  -52.89299011\n",
      "   -59.79290009]\n",
      "  [ 54.56661224 -14.59963799  43.50239182 ..., -32.43840408   1.36939502\n",
      "   -41.81139755]\n",
      "  [  9.21208     43.48594666  -3.61485887 ...,  -0.63792181 -74.96201324\n",
      "    30.87534332]\n",
      "  ..., \n",
      "  [-26.09944725  42.20083237 -15.62377357 ...,  19.19475365  -6.09777355\n",
      "    12.60785484]\n",
      "  [-38.53272629 -28.89927673 -13.68227768 ...,  57.68350601  27.4907341\n",
      "     8.9763031 ]\n",
      "  [-26.28832817  14.75609016 -29.44718361 ...,  20.3132019  -49.67173386\n",
      "   -11.45379829]]\n",
      "\n",
      " [[-11.58675861 -18.71627808  -0.90147781 ...,   5.71295929  49.68353271\n",
      "    36.05014038]\n",
      "  [ 32.23659897 -23.59401321 -44.82710266 ...,   5.34613037  44.28263092\n",
      "   -76.63817596]\n",
      "  [ 32.3328743   96.23060608 -48.80303574 ..., -62.42505264 -10.10341835\n",
      "    17.31169128]\n",
      "  ..., \n",
      "  [ -3.49879479  27.95907211  45.81423569 ...,  20.24531937 -29.16522598\n",
      "   -39.95163727]\n",
      "  [  8.59771156  -1.71600366  12.88079643 ..., -11.73605061  18.23066711\n",
      "    56.94672012]\n",
      "  [-49.87513351 -24.04281998  23.47684479 ...,  27.456707    66.43507385\n",
      "   -32.75100327]]\n",
      "\n",
      " ..., \n",
      " [[ -5.00567913 -35.13304901 -35.22144699 ...,   9.98334312  90.04360962\n",
      "    28.89543915]\n",
      "  [  8.41805363 -20.79190063 -51.96736145 ...,   8.71047115  25.21669006\n",
      "    26.75450897]\n",
      "  [-24.82570267  63.36494064  31.63804626 ...,  36.36632156   6.83819246\n",
      "    34.92667007]\n",
      "  ..., \n",
      "  [ 44.97999573  52.28878784 -23.83394241 ..., -24.41790009  11.04122829\n",
      "   -31.0242157 ]\n",
      "  [ 51.42526627 -26.5280571   54.72028732 ...,  30.22862625  24.39893341\n",
      "   -94.89322662]\n",
      "  [ 23.81715393 -51.42139053  46.31784058 ...,   0.22639942  35.37043762\n",
      "    26.09255219]]\n",
      "\n",
      " [[ 39.21652603  62.39887619 -24.76743126 ..., -19.35785675 -33.10321808\n",
      "    12.80010796]\n",
      "  [ -1.6481657  -29.00559235  34.67714691 ...,  -0.34126616  82.56185913\n",
      "    35.68883896]\n",
      "  [-14.82638359  20.25600433 -86.00520325 ...,  68.05879211 -30.99768448\n",
      "    75.42227173]\n",
      "  ..., \n",
      "  [ 10.39790535  35.79808426 -30.69944382 ...,  20.05259705   7.56974697\n",
      "    64.57618713]\n",
      "  [ 11.93743515 -16.12186432 -16.47708321 ...,  10.45524216 -50.43930817\n",
      "    17.66020012]\n",
      "  [ 18.45855713  64.6722641  -24.03100586 ...,  25.70697021 -50.96051407\n",
      "   -12.26542664]]\n",
      "\n",
      " [[ 20.29195023  25.84994125   7.36015606 ...,   4.71217823 -70.88606262\n",
      "   -13.84064484]\n",
      "  [-11.16993141  23.46691132  20.38633537 ..., -10.54342651  -2.38868141\n",
      "    19.46400642]\n",
      "  [ -6.73498011  52.88302231   4.04954576 ...,  72.05194855  57.69570541\n",
      "    45.43815231]\n",
      "  ..., \n",
      "  [ 14.30510521  20.1082592  -51.48504257 ...,   1.79413748 -20.4002552\n",
      "    32.48114014]\n",
      "  [-41.05704117  13.66989994  12.45001221 ...,  40.15686417   7.793962\n",
      "     9.32518578]\n",
      "  [-23.49931145  -4.18855715 -44.97405624 ..., -14.81445885 -26.43404961\n",
      "   -17.54213142]]]\n"
     ]
    }
   ],
   "source": [
    "def relative_err(ref, val):\n",
    "    err = val - ref if val > ref else ref - val\n",
    "    return err/ref if ref != 0 else err\n",
    "\n",
    "flag = True\n",
    "\n",
    "for ch in range(core_num):\n",
    "    if flag is False:\n",
    "        break\n",
    "    for r in range(out_row):\n",
    "        if flag is False:\n",
    "            break\n",
    "        for c in range(out_col):\n",
    "            if relative_err(ref[ch][r][c], buf_c[ch][r][c]) > 0.01:\n",
    "                print(\"Test failed at (%d, %d, %d)\" % (ch, r, c))\n",
    "                flag = False\n",
    "                break\n",
    "\n",
    "if flag:\n",
    "    print(\"Test Passed!\")\n",
    "\n",
    "print(\"\\nreference result: \")\n",
    "print(ref)\n",
    "print(\"\\narray output:\")\n",
    "print(buf_c)"
   ]
  },
  {
   "cell_type": "code",
   "execution_count": null,
   "metadata": {},
   "outputs": [],
   "source": []
  }
 ],
 "metadata": {
  "kernelspec": {
   "display_name": "Python 3",
   "language": "python",
   "name": "python3"
  },
  "language_info": {
   "codemirror_mode": {
    "name": "ipython",
    "version": 3
   },
   "file_extension": ".py",
   "mimetype": "text/x-python",
   "name": "python",
   "nbconvert_exporter": "python",
   "pygments_lexer": "ipython3",
   "version": "3.6.5"
  }
 },
 "nbformat": 4,
 "nbformat_minor": 2
}
